{
 "cells": [
  {
   "cell_type": "code",
   "execution_count": 9,
   "metadata": {},
   "outputs": [],
   "source": [
    "class Solution(object):\n",
    "    \n",
    "    def twoSum(self, nums, target):\n",
    "        # two point\n",
    "        nums_index = [(v, index) for index,v in enumerate(nums)]  #enumerate (index,value)\n",
    "        nums_index.sort()\n",
    "        begin, end = 0, len(nums) - 1\n",
    "        while begin < end:\n",
    "            curr = nums_index[begin][0] + nums_index[end][0]\n",
    "            if curr == target:\n",
    "                return [nums_index[begin][1], nums_index[end][1]]\n",
    "            elif curr < target:\n",
    "                begin += 1\n",
    "            else:\n",
    "                end -= 1\n",
    "\n",
    "\n",
    "\n",
    "    # begin\n",
    "    "
   ]
  },
  {
   "cell_type": "code",
   "execution_count": 10,
   "metadata": {},
   "outputs": [
    {
     "name": "stdout",
     "output_type": "stream",
     "text": [
      "[1, 2]\n"
     ]
    }
   ],
   "source": [
    "s = Solution()\n",
    "print(s.twoSum([3, 2, 4], 6))"
   ]
  },
  {
   "cell_type": "code",
   "execution_count": 11,
   "metadata": {},
   "outputs": [],
   "source": [
    "class Solution(object):\n",
    "\tdef twoSum(self, nums, target):\n",
    "\t\tmapping = {} #dic\n",
    "\n",
    "\t\tfor index, val in enumerate(nums):\n",
    "\t\t\tdiff = target - val\n",
    "\t\t\tif diff in mapping:\n",
    "\t\t\t\treturn [index, mapping[diff]]\n",
    "\t\t\telse:\n",
    "\t\t\t\tmapping[val] = index  #key=val val=index ,store new item in mapping{}\n",
    "\n",
    "                "
   ]
  },
  {
   "cell_type": "code",
   "execution_count": 13,
   "metadata": {},
   "outputs": [
    {
     "name": "stdout",
     "output_type": "stream",
     "text": [
      "[2, 0]\n"
     ]
    }
   ],
   "source": [
    "s = Solution()\n",
    "print(s.twoSum([3, 2, 4], 7))"
   ]
  },
  {
   "cell_type": "code",
   "execution_count": 16,
   "metadata": {},
   "outputs": [],
   "source": [
    "mapping = {2:3, 5:7}"
   ]
  },
  {
   "cell_type": "code",
   "execution_count": 20,
   "metadata": {},
   "outputs": [
    {
     "data": {
      "text/plain": [
       "3"
      ]
     },
     "execution_count": 20,
     "metadata": {},
     "output_type": "execute_result"
    }
   ],
   "source": [
    "mapping[2]"
   ]
  },
  {
   "cell_type": "code",
   "execution_count": null,
   "metadata": {},
   "outputs": [],
   "source": []
  }
 ],
 "metadata": {
  "kernelspec": {
   "display_name": "Python 3",
   "language": "python",
   "name": "python3"
  },
  "language_info": {
   "codemirror_mode": {
    "name": "ipython",
    "version": 3
   },
   "file_extension": ".py",
   "mimetype": "text/x-python",
   "name": "python",
   "nbconvert_exporter": "python",
   "pygments_lexer": "ipython3",
   "version": "3.7.3"
  }
 },
 "nbformat": 4,
 "nbformat_minor": 2
}
