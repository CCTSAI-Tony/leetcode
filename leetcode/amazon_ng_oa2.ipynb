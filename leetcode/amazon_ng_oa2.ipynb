{
 "cells": [
  {
   "cell_type": "code",
   "execution_count": 6,
   "id": "84b2af27",
   "metadata": {},
   "outputs": [],
   "source": [
    "def cutOffRank(outOffRank: int, num: int, scores: list):\n",
    "    count = [0] * 101\n",
    "    for score in scores:\n",
    "        count[score] += 1\n",
    "    rank = 1\n",
    "    res = 0\n",
    "    for i in range(len(count)-1, -1, -1):\n",
    "        if rank > outOffRank:\n",
    "            break\n",
    "        if count[i] > 0:\n",
    "            res += count[i]\n",
    "            rank = res + 1\n",
    "    return res"
   ]
  },
  {
   "cell_type": "code",
   "execution_count": 7,
   "id": "501db58d",
   "metadata": {},
   "outputs": [
    {
     "data": {
      "text/plain": [
       "3"
      ]
     },
     "execution_count": 7,
     "metadata": {},
     "output_type": "execute_result"
    }
   ],
   "source": [
    "cutOffRank(3, 4, [100, 50, 50, 25])"
   ]
  },
  {
   "cell_type": "code",
   "execution_count": 15,
   "id": "f2157fd8",
   "metadata": {},
   "outputs": [],
   "source": [
    "from heapq import *\n",
    "def fillTheTruck(num: int, boxes: list, unitSize: int, unitsPerBox: list, truckSize: int):\n",
    "    pq = []\n",
    "    for i in range(num):\n",
    "        heappush(pq, (-unitsPerBox[i], boxes[i]))\n",
    "    res = 0\n",
    "    while truckSize > 0 and pq:\n",
    "        cur = heappop(pq)\n",
    "        carry = min(truckSize, cur[1])\n",
    "        truckSize -= carry\n",
    "        res += carry * -cur[0]\n",
    "    return res"
   ]
  },
  {
   "cell_type": "code",
   "execution_count": 16,
   "id": "711b58b7",
   "metadata": {},
   "outputs": [
    {
     "data": {
      "text/plain": [
       "9"
      ]
     },
     "execution_count": 16,
     "metadata": {},
     "output_type": "execute_result"
    }
   ],
   "source": [
    "fillTheTruck(3, [3, 1, 2], 3, [1, 2, 3], 4)"
   ]
  },
  {
   "cell_type": "code",
   "execution_count": 22,
   "id": "15b7a4d4",
   "metadata": {},
   "outputs": [],
   "source": [
    "from collections import deque\n",
    "def maxMinimal(numComputer: int, hardDiskSpace: list, segmentLength: int):\n",
    "    res = float(\"-inf\")\n",
    "    queue = deque()\n",
    "    for i in range(numComputer):\n",
    "        while queue and hardDiskSpace[i] <= hardDiskSpace[queue[-1]]:\n",
    "            queue.pop()\n",
    "        queue.append(i)\n",
    "        if queue[0] <= i - segmentLength:\n",
    "            queue.popleft()\n",
    "        res = max(res, hardDiskSpace[queue[0]])\n",
    "    return res"
   ]
  },
  {
   "cell_type": "code",
   "execution_count": 23,
   "id": "36f56e4e",
   "metadata": {},
   "outputs": [
    {
     "data": {
      "text/plain": [
       "2"
      ]
     },
     "execution_count": 23,
     "metadata": {},
     "output_type": "execute_result"
    }
   ],
   "source": [
    "maxMinimal(3, [0, 2, 4], 2)"
   ]
  },
  {
   "cell_type": "code",
   "execution_count": 54,
   "id": "200c701e",
   "metadata": {},
   "outputs": [],
   "source": [
    "from sortedcontainers import SortedDict\n",
    "from collections import defaultdict\n",
    "import bisect\n",
    "def findNearestCities(numOfCities: int, cities: list, xCoordinates: list, yCoordinates: list, numOfQueries: int, queries: list):\n",
    "    cityMap = {}\n",
    "    xMap = defaultdict(SortedDict)\n",
    "    yMap = defaultdict(SortedDict)\n",
    "    res = [None] * numOfCities\n",
    "    for i in range(numOfQueries):\n",
    "        cityMap[cities[i]] = (xCoordinates[i], yCoordinates[i])\n",
    "        xMap[xCoordinates[i]][yCoordinates[i]] = cities[i]\n",
    "        yMap[yCoordinates[i]][xCoordinates[i]] = cities[i]\n",
    "        \n",
    "    for i in range(numOfQueries):\n",
    "        x, y = cityMap[queries[i]]\n",
    "        yPositions = xMap[x]\n",
    "        xPositions = yMap[y]\n",
    "        yLower = floor_key(yPositions, y)\n",
    "        yHigher = ceiling_key(yPositions, y)\n",
    "        xLower = floor_key(xPositions, x)\n",
    "        xHigher = ceiling_key(xPositions, x)\n",
    "        dist = float(\"inf\")\n",
    "        if yLower and abs(y-yLower) <= dist:\n",
    "            dist = abs(y-yLower)\n",
    "            if res[i] == None:\n",
    "                res[i] = yPositions[yLower]\n",
    "            else:\n",
    "                if yPositions[yLower] < res[i]:\n",
    "                    res[i] = yPositions[yLower]\n",
    "        if yHigher and abs(y-yHigher) <= dist:\n",
    "            dist = abs(y-yHigher)\n",
    "            if res[i] == None:\n",
    "                res[i] = yPositions[yHigher]\n",
    "            else:\n",
    "                if yPositions[yHigher] < res[i]:\n",
    "                    res[i] = yPositions[yHigher]\n",
    "        if xLower and abs(x-xLower) <= dist:\n",
    "            dist = abs(x-xLower)\n",
    "            if res[i] == None:\n",
    "                res[i] = xPositions[xLower]\n",
    "            else:\n",
    "                if xPositions[xLower] < res[i]:\n",
    "                    res[i] = xPositions[xLower]\n",
    "        if xHigher and abs(x-xHigher) <= dist:\n",
    "            dist = abs(x-xHigher)\n",
    "            if res[i] == None:\n",
    "                res[i] = xPositions[xHigher]\n",
    "            else:\n",
    "                if xPositions[xHigher] < res[i]:\n",
    "                    res[i] = xPositions[xHigher]\n",
    "        if res[i] == None:\n",
    "            res[i] = \"None\"\n",
    "            \n",
    "    return res\n",
    "        \n",
    "        \n",
    "def ceiling_key(d, key):\n",
    "    keys = sorted(d.keys())\n",
    "    idx = bisect.bisect_left(keys, key)\n",
    "    if key in d:\n",
    "        idx += 1\n",
    "    if idx >= len(d):\n",
    "        return None\n",
    "    return keys[idx]\n",
    "\n",
    "def floor_key(d, key):\n",
    "    keys = sorted(d.keys())\n",
    "    idx = bisect.bisect_left(keys, key) - 1\n",
    "    if idx < 0:\n",
    "        return None\n",
    "    return keys[idx]\n"
   ]
  },
  {
   "cell_type": "code",
   "execution_count": 55,
   "id": "2b5c9fc8",
   "metadata": {},
   "outputs": [
    {
     "data": {
      "text/plain": [
       "['c3', 'None', 'c1']"
      ]
     },
     "execution_count": 55,
     "metadata": {},
     "output_type": "execute_result"
    }
   ],
   "source": [
    "findNearestCities(3, [\"c1\", \"c2\", \"c3\"], [3, 2, 1], [3, 2, 3], 3, [\"c1\", \"c2\", \"c3\"])"
   ]
  },
  {
   "cell_type": "code",
   "execution_count": 56,
   "id": "54fd77f9",
   "metadata": {},
   "outputs": [],
   "source": [
    "class TreeNode:\n",
    "    def __init__(self, val, children):\n",
    "        self.val = val\n",
    "        self.children = children\n",
    "        \n",
    "class Solution:\n",
    "    def maximumAverageSubtree(self, root: TreeNode) -> TreeNode:\n",
    "        self.dic = {}\n",
    "        self.inordersum(root)\n",
    "        return max(self.dic.items(), key = lambda x: x[1])[0]\n",
    "\n",
    "    def inordersum(self,root):\n",
    "        if root:\n",
    "            total = root.val\n",
    "            nodeCount = 1\n",
    "\n",
    "            for child in root.children:\n",
    "                childSum,childCount =  self.inordersum(child)\n",
    "                total += childSum\n",
    "                nodeCount += childCount\n",
    "\n",
    "\n",
    "            avg = (total)/(nodeCount)\n",
    "            \n",
    "            if nodeCount != 1:\n",
    "                self.dic[root] = avg\n",
    "            return [total,nodeCount]\n",
    "        else:\n",
    "            return [0,0]\n"
   ]
  },
  {
   "cell_type": "code",
   "execution_count": 64,
   "id": "ab5f130b",
   "metadata": {},
   "outputs": [],
   "source": [
    "def breakPalindrome(palindrome):\n",
    "    n = len(palindrome)\n",
    "    if n == 1:\n",
    "        return \"\"\n",
    "    count = 0\n",
    "    arr = list(palindrome)\n",
    "    for i in range(n//2):\n",
    "        if arr[i] != \"a\":\n",
    "            arr[i] = \"a\"\n",
    "            count += 1\n",
    "            break\n",
    "    if count != 1:\n",
    "        arr[-1] = \"b\"\n",
    "    return \"\".join(arr)\n",
    "    "
   ]
  },
  {
   "cell_type": "code",
   "execution_count": 69,
   "id": "cc0b375e",
   "metadata": {},
   "outputs": [
    {
     "data": {
      "text/plain": [
       "'aaccba'"
      ]
     },
     "execution_count": 69,
     "metadata": {},
     "output_type": "execute_result"
    }
   ],
   "source": [
    "breakPalindrome(\"abccba\")"
   ]
  },
  {
   "cell_type": "code",
   "execution_count": 77,
   "id": "1f909016",
   "metadata": {},
   "outputs": [],
   "source": [
    "class debtRecord:\n",
    "    def __init__(self, borrower, lender, amount):\n",
    "        self.borrower = borrower\n",
    "        self.lender = lender\n",
    "        self.amount = amount\n",
    "        \n",
    "records = []\n",
    "records.append(debtRecord(\"William\", \"Jackson\", 2))\n",
    "records.append(debtRecord(\"Jackson\", \"William\", 2))\n",
    "records.append(debtRecord(\"Madison\", \"William\", 5))\n",
    "records.append(debtRecord(\"Jackson\", \"Madison\", 7))\n",
    "records.append(debtRecord(\"William\", \"Jackson\", 4))\n",
    "records.append(debtRecord(\"William\", \"Madison\", 4))\n",
    "\n",
    "from collections import defaultdict\n",
    "def minimumDebtMembers(records):\n",
    "    debt = defaultdict(int)\n",
    "    for record in records:\n",
    "        debt[record.lender] += record.amount\n",
    "        debt[record.borrower] -= record.amount\n",
    "    min_value = min(list(debt.values()))\n",
    "    res = []\n",
    "    if min_value >= 0:\n",
    "        res.append(\"Nobody has a negative balance\")\n",
    "        return res\n",
    "    for k in debt:\n",
    "        if debt[k] == min_value:\n",
    "            res.append(k)\n",
    "    res.sort()\n",
    "    return res\n"
   ]
  },
  {
   "cell_type": "code",
   "execution_count": 78,
   "id": "fed870cb",
   "metadata": {},
   "outputs": [
    {
     "data": {
      "text/plain": [
       "['Jackson', 'William']"
      ]
     },
     "execution_count": 78,
     "metadata": {},
     "output_type": "execute_result"
    }
   ],
   "source": [
    "minimumDebtMembers(records)"
   ]
  },
  {
   "cell_type": "code",
   "execution_count": 82,
   "id": "313453f4",
   "metadata": {},
   "outputs": [],
   "source": [
    "from collections import defaultdict\n",
    "def findProfit(numSuppliers: int, inventory: list, order: int):\n",
    "    memo = defaultdict(int)\n",
    "    maxProfit = 0\n",
    "    res = 0\n",
    "    for profit in inventory:\n",
    "        memo[profit] += 1\n",
    "        if profit > maxProfit:\n",
    "            maxProfit = profit\n",
    "    while order > 0:\n",
    "        count = min(order, memo[maxProfit])\n",
    "        res += count * maxProfit\n",
    "        order -= count\n",
    "        memo[maxProfit] -= count\n",
    "        memo[maxProfit - 1] += count\n",
    "        if memo[maxProfit] == 0:\n",
    "            del memo[maxProfit]\n",
    "            maxProfit -= 1\n",
    "    return res\n",
    "        "
   ]
  },
  {
   "cell_type": "code",
   "execution_count": 83,
   "id": "2f216458",
   "metadata": {},
   "outputs": [
    {
     "data": {
      "text/plain": [
       "107"
      ]
     },
     "execution_count": 83,
     "metadata": {},
     "output_type": "execute_result"
    }
   ],
   "source": [
    "findProfit(5, [3, 5, 7, 10, 6], 20)"
   ]
  },
  {
   "cell_type": "code",
   "execution_count": 112,
   "id": "ea0b4f17",
   "metadata": {},
   "outputs": [],
   "source": [
    "def countPrimeString(s: str):\n",
    "    isPrime = isValidPrime(1000)\n",
    "    n = len(s)\n",
    "    dp = [0] * (n + 1)\n",
    "    dp[0] = 1\n",
    "    for i in range(1, n+1):\n",
    "        x = max(0, i-3)\n",
    "        for j in range(x, i):\n",
    "            temp = s[j:i]\n",
    "            if isPrime[int(temp)] and not temp.startswith(\"0\"):\n",
    "                dp[i] += dp[j]\n",
    "    return dp[n]\n",
    "\n",
    "def isValidPrime(n):\n",
    "    isprime = [False, False] + [True]*n\n",
    "    for p in range(2,n):\n",
    "        if isprime[p]:\n",
    "            for kp in range(2*p,n,p):\n",
    "                isprime[kp] = False\n",
    "    return isprime\n"
   ]
  },
  {
   "cell_type": "code",
   "execution_count": 113,
   "id": "f5bd03af",
   "metadata": {},
   "outputs": [
    {
     "data": {
      "text/plain": [
       "6"
      ]
     },
     "execution_count": 113,
     "metadata": {},
     "output_type": "execute_result"
    }
   ],
   "source": [
    "countPrimeString(\"31173\")"
   ]
  },
  {
   "cell_type": "code",
   "execution_count": 121,
   "id": "1bdfd1cc",
   "metadata": {},
   "outputs": [],
   "source": [
    "def fetchItemsToDisplay(sortParameter: int, sortOrder: int, itemsPerPage: int, pageNumber: int, numOfItems: int, dataArray: dict):\n",
    "    sign = 1 if sortOrder == 0 else -1\n",
    "    data = [(k, dataArray[k][0], dataArray[k][1]) for k in dataArray]\n",
    "    if sortParameter == 0:\n",
    "        data.sort(key=lambda x: x[0])\n",
    "    elif sortParameter == 1:\n",
    "        data.sort(key=lambda x: x[1])\n",
    "    else:\n",
    "        data.sort(key=lambda x: x[2])\n",
    "    start = itemsPerPage * pageNumber\n",
    "    end = start + itemsPerPage if start + itemsPerPage < len(data) else len(data)\n",
    "    return [item[0] for item in data[start:end]]\n",
    "        \n",
    "        "
   ]
  },
  {
   "cell_type": "code",
   "execution_count": 122,
   "id": "4719d25a",
   "metadata": {},
   "outputs": [
    {
     "data": {
      "text/plain": [
       "['item3']"
      ]
     },
     "execution_count": 122,
     "metadata": {},
     "output_type": "execute_result"
    }
   ],
   "source": [
    "fetchItemsToDisplay(1, 0, 2, 1, 3, {\"item1\": (10, 15), \"item2\": (3, 4), \"item3\": (17, 8)})"
   ]
  },
  {
   "cell_type": "code",
   "execution_count": 125,
   "id": "c836f471",
   "metadata": {},
   "outputs": [],
   "source": [
    "def countTeams(num: int, lengths: list, minReviews: int, minLen: int, maxLen: int):\n",
    "    count = 0\n",
    "    res = 0\n",
    "    for length in lengths:\n",
    "        if length >= minLen and length <= maxLen:\n",
    "            count += 1\n",
    "    for i in range(minReviews, count + 1):\n",
    "        res += comb(count, i)\n",
    "    return res\n",
    "\n",
    "def comb(n: int, m: int):\n",
    "    if n < m:\n",
    "        return 0\n",
    "    if n == m:\n",
    "        return 1\n",
    "    if m == 0:\n",
    "        return 1\n",
    "    return comb(n - 1, m - 1) + comb(n - 1, m)"
   ]
  },
  {
   "cell_type": "code",
   "execution_count": 126,
   "id": "8f18a768",
   "metadata": {},
   "outputs": [
    {
     "data": {
      "text/plain": [
       "5"
      ]
     },
     "execution_count": 126,
     "metadata": {},
     "output_type": "execute_result"
    }
   ],
   "source": [
    "countTeams(8, [6, 13, 5, 10, 12, 4, 2, 15], 3, 4, 10)"
   ]
  },
  {
   "cell_type": "code",
   "execution_count": null,
   "id": "de0fb4c7",
   "metadata": {},
   "outputs": [],
   "source": [
    "class Solution:\n",
    "    def copyRandomList(self, head: 'Node') -> 'Node':\n",
    "        if not head:\n",
    "            return None\n",
    "        dic = {}\n",
    "        cur = head\n",
    "        while cur:\n",
    "            dic[cur] = Node(cur.val)\n",
    "            cur = cur.next\n",
    "        cur = head\n",
    "        while cur:\n",
    "            if cur.random:\n",
    "                dic[cur].random = dic[cur.random]\n",
    "            if cur.next:\n",
    "                dic[cur].next = dic[cur.next]\n",
    "            cur = cur.next\n",
    "        return dic[head]"
   ]
  },
  {
   "cell_type": "code",
   "execution_count": 131,
   "id": "584fed82",
   "metadata": {},
   "outputs": [],
   "source": [
    "class LRUCacheMiss:\n",
    "    def lruCacheMisses(self, num: int, pages: list, maxCacheSize: int):\n",
    "        cache = LRUCache(maxCacheSize)\n",
    "        for i in range(num):\n",
    "            cache.put(pages[i], i)\n",
    "        return cache.missNum\n",
    "\n",
    "class Node:\n",
    "    def __init__(self, k, v):\n",
    "        self.key = k\n",
    "        self.val = v\n",
    "        self.prev = None\n",
    "        self.next = None\n",
    "\n",
    "class LRUCache:\n",
    "    def __init__(self, capacity):\n",
    "        self.capacity = capacity\n",
    "        self.dic = dict() # self.dic = {}\n",
    "        self.head = Node(0, 0)\n",
    "        self.tail = Node(0, 0)\n",
    "        self.head.next = self.tail\n",
    "        self.tail.prev = self.head\n",
    "        self.missNum = 0\n",
    "\n",
    "    def get(self, key):\n",
    "        if key in self.dic:\n",
    "            n = self.dic[key] #key:node\n",
    "            self._remove(n) #每get一次 就要把get項目拿出來放在排序第一的位置 因此先remoce 再 add\n",
    "            self._add(n)\n",
    "            return n.val\n",
    "        return -1\n",
    "\n",
    "    def put(self, key, value):\n",
    "        if key in self.dic:\n",
    "            n = self.dic[key]\n",
    "            self._remove(n) #一樣 put因為觸碰了原本的key 變常用了 在listNode 把key remove\n",
    "        else:\n",
    "            self.missNum += 1\n",
    "        n = Node(key, value)\n",
    "        self._add(n) #重新加回listNode\n",
    "        self.dic[key] = n #新建 key:value pair or 重新定義key:value  => update\n",
    "        if len(self.dic) > self.capacity:\n",
    "            n = self.head.next #把head 下一個 remove 也就是the least recently used item\n",
    "            self._remove(n)\n",
    "            del self.dic[n.key] #把dict node對應的key消除\n",
    "\n",
    "    def _remove(self, node): #消除當前node\n",
    "        p = node.prev \n",
    "        n = node.next\n",
    "        p.next = n\n",
    "        n.prev = p\n",
    "\n",
    "    def _add(self, node): #把當前node 放在最後, self.tail的前一個\n",
    "        p = self.tail.prev #這樣寫是不干擾self.head 預設值\n",
    "        p.next = node\n",
    "        self.tail.prev = node\n",
    "        node.prev = p\n",
    "        node.next = self.tail"
   ]
  },
  {
   "cell_type": "code",
   "execution_count": 132,
   "id": "f12b8656",
   "metadata": {},
   "outputs": [
    {
     "data": {
      "text/plain": [
       "4"
      ]
     },
     "execution_count": 132,
     "metadata": {},
     "output_type": "execute_result"
    }
   ],
   "source": [
    "a = LRUCacheMiss()\n",
    "a.lruCacheMisses(6, [1, 2, 1, 3, 1, 2], 2)"
   ]
  },
  {
   "cell_type": "code",
   "execution_count": 137,
   "id": "29eab8f4",
   "metadata": {},
   "outputs": [],
   "source": [
    "class Solution:\n",
    "    def minDifficulty(self, jobDifficulty: list, d: int):\n",
    "        if len(jobDifficulty) < d:\n",
    "            return -1\n",
    "        dp = [[float(\"inf\")] * len(jobDifficulty) for _ in range(d)]\n",
    "        preDif = 0\n",
    "        #  initial d = 0 as only 1 day\n",
    "        for i in range(len(jobDifficulty)):\n",
    "            preDif = max(preDif, jobDifficulty[i])\n",
    "            dp[0][i] = preDif\n",
    "        for i in range(1, d):\n",
    "            for j in range(i, len(jobDifficulty)):\n",
    "                preDif = jobDifficulty[j]\n",
    "                for k in range(j, i - 1, -1):  # cause at least one job per day\n",
    "                    preDif = max(preDif, jobDifficulty[k])\n",
    "                    dp[i][j] = min(dp[i][j], dp[i-1][k-1]+preDif)\n",
    "        return dp[d-1][len(jobDifficulty)-1]"
   ]
  },
  {
   "cell_type": "code",
   "execution_count": 139,
   "id": "cb92af64",
   "metadata": {},
   "outputs": [
    {
     "name": "stdout",
     "output_type": "stream",
     "text": [
      "[[inf, inf, inf, inf, inf, inf, inf, inf], [inf, inf, inf, inf, inf, inf, inf, inf], [inf, inf, inf, inf, inf, inf, inf, inf], [inf, inf, inf, inf, inf, inf, inf, inf]]\n"
     ]
    },
    {
     "data": {
      "text/plain": [
       "16"
      ]
     },
     "execution_count": 139,
     "metadata": {},
     "output_type": "execute_result"
    }
   ],
   "source": [
    "a = Solution()\n",
    "a.minDifficulty([5, 4, 2, 4, 3, 4, 5, 4], 4)"
   ]
  },
  {
   "cell_type": "code",
   "execution_count": 140,
   "id": "2b213cb0",
   "metadata": {},
   "outputs": [],
   "source": [
    "class Solution(object):\n",
    "    def numIslands(self, grid):\n",
    "        if not grid:\n",
    "            return 0\n",
    "            \n",
    "        count = 0\n",
    "        for i in range(len(grid)):\n",
    "            for j in range(len(grid[0])):\n",
    "                if grid[i][j] == '1':\n",
    "                    self.dfs(grid, i, j)  #擴散\n",
    "                    count += 1\n",
    "        return count\n",
    "\n",
    "    def dfs(self, grid, i, j):\n",
    "        if i<0 or j<0 or i>=len(grid) or j>=len(grid[0]) or grid[i][j] != '1':\n",
    "            return\n",
    "        grid[i][j] = '#'\n",
    "        self.dfs(grid, i+1, j)\n",
    "        self.dfs(grid, i-1, j)\n",
    "        self.dfs(grid, i, j+1)\n",
    "        self.dfs(grid, i, j-1)"
   ]
  },
  {
   "cell_type": "code",
   "execution_count": 141,
   "id": "642237be",
   "metadata": {},
   "outputs": [],
   "source": [
    "def getMaxValue(numGroup: int, arr: list):\n",
    "    arr.sort()\n",
    "    for i in range(numGroup):\n",
    "        if i == 0:\n",
    "            arr[i] = 1\n",
    "        if i > 0 and arr[i] - arr[i - 1] > 1:\n",
    "            arr[i] = arr[i-1] + 1\n",
    "    return arr[numGroup - 1]"
   ]
  },
  {
   "cell_type": "code",
   "execution_count": 143,
   "id": "e2ec15d9",
   "metadata": {},
   "outputs": [
    {
     "data": {
      "text/plain": [
       "3"
      ]
     },
     "execution_count": 143,
     "metadata": {},
     "output_type": "execute_result"
    }
   ],
   "source": [
    "getMaxValue(4, [1, 3, 2, 2])"
   ]
  },
  {
   "cell_type": "code",
   "execution_count": null,
   "id": "96aa58c8",
   "metadata": {},
   "outputs": [],
   "source": [
    "from collections import deque\n",
    "class Solution:\n",
    "    def maxSlidingWindow(self, nums: List[int], k: int) -> List[int]:\n",
    "        queue = deque()\n",
    "        for i in range(k - 1):\n",
    "            while queue and nums[queue[-1]] <= nums[i]:\n",
    "                queue.pop()\n",
    "            queue.append(i)\n",
    "        res = []\n",
    "        for i in range(k - 1, len(nums)):\n",
    "            while queue and nums[queue[-1]] <= nums[i]:\n",
    "                queue.pop()\n",
    "            queue.append(i)\n",
    "            while queue[0] < (i-k+1):\n",
    "                queue.popleft()\n",
    "            res.append(nums[queue[0]])\n",
    "        return res"
   ]
  },
  {
   "cell_type": "code",
   "execution_count": 164,
   "id": "076e6268",
   "metadata": {},
   "outputs": [],
   "source": [
    "from collections import defaultdict\n",
    "class Solution:\n",
    "    def countkDist(self, s: str, k: int):\n",
    "        return self.most_k_chars(s, k) - self.most_k_chars(s, k - 1)\n",
    "    def most_k_chars(self, s: str, k: int):\n",
    "        num= 0\n",
    "        dic = defaultdict(int)\n",
    "        l, r = 0, 0\n",
    "        for r in range(len(s)):\n",
    "            dic[s[r]] += 1\n",
    "            while len(dic.keys()) > k:\n",
    "                dic[s[l]] -= 1\n",
    "                if dic[s[l]] == 0:\n",
    "                    del dic[s[l]]\n",
    "                l += 1\n",
    "            num += r - l + 1\n",
    "        return num"
   ]
  },
  {
   "cell_type": "code",
   "execution_count": 165,
   "id": "b885bdbe",
   "metadata": {},
   "outputs": [
    {
     "data": {
      "text/plain": [
       "7"
      ]
     },
     "execution_count": 165,
     "metadata": {},
     "output_type": "execute_result"
    }
   ],
   "source": [
    "a = Solution()\n",
    "a.countkDist(\"ababc\", 2)"
   ]
  },
  {
   "cell_type": "code",
   "execution_count": 168,
   "id": "9b14cf88",
   "metadata": {},
   "outputs": [],
   "source": [
    "def subStringsWithKDistinctCharacters(s, k):\n",
    "    s = list(s)\n",
    "    \n",
    "    def atMost(k):\n",
    "        count = defaultdict(int)\n",
    "        left = 0\n",
    "        ans = 0\n",
    "        for right, x in enumerate(s):\n",
    "            count[x] += 1\n",
    "            while len(count) > k:\n",
    "                count[s[left]] -= 1\n",
    "                if count[s[left]] == 0:\n",
    "                    del count[s[left]]\n",
    "                left += 1\n",
    "            ans += right - left + 1\n",
    "        return ans\n",
    "    return atMost(k) - atMost(k-1)"
   ]
  },
  {
   "cell_type": "code",
   "execution_count": 169,
   "id": "d211c518",
   "metadata": {},
   "outputs": [
    {
     "data": {
      "text/plain": [
       "7"
      ]
     },
     "execution_count": 169,
     "metadata": {},
     "output_type": "execute_result"
    }
   ],
   "source": [
    "subStringsWithKDistinctCharacters(\"ababc\", 2)"
   ]
  },
  {
   "cell_type": "code",
   "execution_count": null,
   "id": "d08ade69",
   "metadata": {},
   "outputs": [],
   "source": []
  }
 ],
 "metadata": {
  "kernelspec": {
   "display_name": "Python 3",
   "language": "python",
   "name": "python3"
  },
  "language_info": {
   "codemirror_mode": {
    "name": "ipython",
    "version": 3
   },
   "file_extension": ".py",
   "mimetype": "text/x-python",
   "name": "python",
   "nbconvert_exporter": "python",
   "pygments_lexer": "ipython3",
   "version": "3.7.3"
  }
 },
 "nbformat": 4,
 "nbformat_minor": 5
}
